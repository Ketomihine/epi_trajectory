{
 "cells": [
  {
   "cell_type": "code",
   "id": "initial_id",
   "metadata": {
    "collapsed": true,
    "ExecuteTime": {
     "end_time": "2025-01-21T07:40:43.391120Z",
     "start_time": "2025-01-21T07:40:36.407180Z"
    }
   },
   "source": [
    "import omicverse as ov\n",
    "import scanpy as sc\n",
    "from sympy import false\n",
    "\n",
    "ov.plot_set()"
   ],
   "outputs": [
    {
     "name": "stdout",
     "output_type": "stream",
     "text": [
      "\n",
      "   ____            _     _    __                  \n",
      "  / __ \\____ ___  (_)___| |  / /__  _____________ \n",
      " / / / / __ `__ \\/ / ___/ | / / _ \\/ ___/ ___/ _ \\ \n",
      "/ /_/ / / / / / / / /__ | |/ /  __/ /  (__  )  __/ \n",
      "\\____/_/ /_/ /_/_/\\___/ |___/\\___/_/  /____/\\___/                                              \n",
      "\n",
      "Version: 1.6.9, Tutorials: https://omicverse.readthedocs.io/\n",
      "Dependency error: The 'bioservices' distribution was not found and is required by the application\n"
     ]
    }
   ],
   "execution_count": 2
  },
  {
   "metadata": {
    "ExecuteTime": {
     "end_time": "2025-01-21T07:40:47.964893Z",
     "start_time": "2025-01-21T07:40:43.400152Z"
    }
   },
   "cell_type": "code",
   "source": "adata = sc.read_h5ad('/media/zhy/zhyfile/1111/1110_epi.h5ad')",
   "id": "b9aa83216bb5af07",
   "outputs": [],
   "execution_count": 3
  },
  {
   "metadata": {
    "ExecuteTime": {
     "end_time": "2025-01-21T08:06:23.488452Z",
     "start_time": "2025-01-21T08:06:23.482141Z"
    }
   },
   "cell_type": "code",
   "source": [
    "colors = ['#aa40fc', '#1f77b4', '#98df8a', '#279e68', '#ff9896', '#aec7e8', '#17becf', '#ff7f0e', '#d62728', '#ffbb78', '#e377c2', '#8c564b', '#b5bd61']\n",
    "adata.uns['celltype.main_colors'] = colors"
   ],
   "id": "8a22b912bf1fc33a",
   "outputs": [],
   "execution_count": 8
  },
  {
   "metadata": {
    "ExecuteTime": {
     "end_time": "2025-01-21T07:41:11.481007Z",
     "start_time": "2025-01-21T07:40:48.032078Z"
    }
   },
   "cell_type": "code",
   "source": [
    "%%time\n",
    "adata=ov.pp.preprocess(adata,mode='shiftlog|pearson',n_HVGs=2000,)\n",
    "adata"
   ],
   "id": "9b13a1273131de26",
   "outputs": [
    {
     "name": "stdout",
     "output_type": "stream",
     "text": [
      "Begin robust gene identification\n",
      "After filtration, 25627/25627 genes are kept.     Among 25627 genes, 25627 genes are robust.\n",
      "End of robust gene identification.\n",
      "Begin size normalization: shiftlog and HVGs selection pearson\n",
      "normalizing counts per cell. The following highly-expressed genes are not considered during normalization factor computation:\n",
      "['Hbb-b1', 'Hba-a2', 'Mt-atp6']\n",
      "    finished (0:00:00)\n",
      "extracting highly variable genes\n",
      "--> added\n",
      "    'highly_variable', boolean vector (adata.var)\n",
      "    'highly_variable_rank', float vector (adata.var)\n",
      "    'highly_variable_nbatches', int vector (adata.var)\n",
      "    'highly_variable_intersection', boolean vector (adata.var)\n",
      "    'means', float vector (adata.var)\n",
      "    'variances', float vector (adata.var)\n",
      "    'residual_variances', float vector (adata.var)\n",
      "Time to analyze data in cpu: 23.004652500152588 seconds.\n",
      "End of size normalization: shiftlog and HVGs selection pearson\n",
      "CPU times: user 28.5 s, sys: 1.9 s, total: 30.4 s\n",
      "Wall time: 23.4 s\n"
     ]
    },
    {
     "data": {
      "text/plain": [
       "AnnData object with n_obs × n_vars = 15235 × 25627\n",
       "    obs: 'orig.ident', 'nCount_RNA', 'nFeature_RNA', 'sample_id', 'n_genes_by_counts', 'log1p_n_genes_by_counts', 'total_counts', 'log1p_total_counts', 'pct_counts_in_top_20_genes', 'total_counts_mt', 'log1p_total_counts_mt', 'pct_counts_mt', 'total_counts_ribo', 'log1p_total_counts_ribo', 'pct_counts_ribo', 'total_counts_hb', 'log1p_total_counts_hb', 'pct_counts_hb', 'outlier', 'mt_outlier', 'scDblFinder_score', 'scDblFinder_class', 'batch', '_scvi_batch', '_scvi_labels', 'leiden_scVI1', 'celltype.main'\n",
       "    var: 'gene', 'robust', 'means', 'variances', 'residual_variances', 'highly_variable_rank', 'highly_variable_features'\n",
       "    uns: 'log1p', 'hvg'\n",
       "    obsm: 'X_umap'\n",
       "    layers: 'counts'"
      ]
     },
     "execution_count": 5,
     "metadata": {},
     "output_type": "execute_result"
    }
   ],
   "execution_count": 5
  },
  {
   "metadata": {
    "ExecuteTime": {
     "end_time": "2025-01-21T07:55:05.626123Z",
     "start_time": "2025-01-21T07:49:11.816741Z"
    }
   },
   "cell_type": "code",
   "source": [
    "results =  ov.single.cytotrace2(adata,\n",
    "    use_model_dir=\"/media/zhy/zhyfile/17_models_weights\",\n",
    "    species=\"mouse\",\n",
    "    batch_size = 10000,\n",
    "    smooth_batch_size = 1000,\n",
    "    disable_parallelization = False,\n",
    "    max_cores = None,\n",
    "    max_pcs = 200,\n",
    "    seed = 14,\n",
    "    output_dir = 'cytotrace2_results'\n",
    ")"
   ],
   "id": "87118c01864d4d1",
   "outputs": [
    {
     "name": "stdout",
     "output_type": "stream",
     "text": [
      "cytotrace2: Input parameters\n",
      "    Species: mouse\n",
      "    Parallelization enabled: True\n",
      "    User-provided limit for number of cores to use: None\n",
      "    Batch size: 10000\n",
      "    Smoothing batch size: 1000\n",
      "    Max PCs: 200\n",
      "    Seed: 14\n",
      "    Output directory: cytotrace2_results\n",
      "cytotrace2: Dataset characteristics\n",
      "    Number of input genes:  25627\n",
      "    Number of input cells:  15235\n",
      "cytotrace2: Preprocessing\n",
      "cytotrace2: 64 cores detected\n",
      "cytotrace2: Running 2 prediction batch(es) in parallel using 10 cores for smoothing per batch.\n",
      "cytotrace2: Initiated processing batch 1/2 with 7618 cells\n",
      "cytotrace2: Initiated processing batch 2/2 with 7617 cells\n",
      "    12873 input genes are present in the model features.\n",
      "    12873 input genes are present in the model features.\n",
      "\n",
      "   ____            _     _    __                  \n",
      "  / __ \\____ ___  (_)___| |  / /__  _____________ \n",
      " / / / / __ `__ \\/ / ___/ | / / _ \\/ ___/ ___/ _ \\ \n",
      "/ /_/ / / / / / / / /__ | |/ /  __/ /  (__  )  __/ \n",
      "\\____/_/ /_/ /_/_/\\___/ |___/\\___/_/  /____/\\___/                                              \n",
      "\n",
      "Version: 1.6.9, Tutorials: https://omicverse.readthedocs.io/\n",
      "\n",
      "   ____            _     _    __                  \n",
      "  / __ \\____ ___  (_)___| |  / /__  _____________ \n",
      " / / / / __ `__ \\/ / ___/ | / / _ \\/ ___/ ___/ _ \\ \n",
      "/ /_/ / / / / / / / /__ | |/ /  __/ /  (__  )  __/ \n",
      "\\____/_/ /_/ /_/_/\\___/ |___/\\___/_/  /____/\\___/                                              \n",
      "\n",
      "Version: 1.6.9, Tutorials: https://omicverse.readthedocs.io/\n",
      "\n",
      "   ____            _     _    __                  \n",
      "  / __ \\____ ___  (_)___| |  / /__  _____________ \n",
      " / / / / __ `__ \\/ / ___/ | / / _ \\/ ___/ ___/ _ \\ \n",
      "/ /_/ / / / / / / / /__ | |/ /  __/ /  (__  )  __/ \n",
      "\\____/_/ /_/ /_/_/\\___/ |___/\\___/_/  /____/\\___/                                              \n",
      "\n",
      "Version: 1.6.9, Tutorials: https://omicverse.readthedocs.io/\n",
      "\n",
      "   ____            _     _    __                  \n",
      "  / __ \\____ ___  (_)___| |  / /__  _____________ \n",
      " / / / / __ `__ \\/ / ___/ | / / _ \\/ ___/ ___/ _ \\ \n",
      "/ /_/ / / / / / / / /__ | |/ /  __/ /  (__  )  __/ \n",
      "\\____/_/ /_/ /_/_/\\___/ |___/\\___/_/  /____/\\___/                                              \n",
      "\n",
      "Version: 1.6.9, Tutorials: https://omicverse.readthedocs.io/\n",
      "\n",
      "   ____            _     _    __                  \n",
      "  / __ \\____ ___  (_)___| |  / /__  _____________ \n",
      " / / / / __ `__ \\/ / ___/ | / / _ \\/ ___/ ___/ _ \\ \n",
      "/ /_/ / / / / / / / /__ | |/ /  __/ /  (__  )  __/ \n",
      "\\____/_/ /_/ /_/_/\\___/ |___/\\___/_/  /____/\\___/                                              \n",
      "\n",
      "Version: 1.6.9, Tutorials: https://omicverse.readthedocs.io/\n",
      "\n",
      "   ____            _     _    __                  \n",
      "  / __ \\____ ___  (_)___| |  / /__  _____________ \n",
      " / / / / __ `__ \\/ / ___/ | / / _ \\/ ___/ ___/ _ \\ \n",
      "/ /_/ / / / / / / / /__ | |/ /  __/ /  (__  )  __/ \n",
      "\\____/_/ /_/ /_/_/\\___/ |___/\\___/_/  /____/\\___/                                              \n",
      "\n",
      "Version: 1.6.9, Tutorials: https://omicverse.readthedocs.io/\n",
      "\n",
      "   ____            _     _    __                  \n",
      "  / __ \\____ ___  (_)___| |  / /__  _____________ \n",
      " / / / / __ `__ \\/ / ___/ | / / _ \\/ ___/ ___/ _ \\ \n",
      "/ /_/ / / / / / / / /__ | |/ /  __/ /  (__  )  __/ \n",
      "\\____/_/ /_/ /_/_/\\___/ |___/\\___/_/  /____/\\___/                                              \n",
      "\n",
      "Version: 1.6.9, Tutorials: https://omicverse.readthedocs.io/\n",
      "\n",
      "   ____            _     _    __                  \n",
      "  / __ \\____ ___  (_)___| |  / /__  _____________ \n",
      " / / / / __ `__ \\/ / ___/ | / / _ \\/ ___/ ___/ _ \\ \n",
      "/ /_/ / / / / / / / /__ | |/ /  __/ /  (__  )  __/ \n",
      "\\____/_/ /_/ /_/_/\\___/ |___/\\___/_/  /____/\\___/                                              \n",
      "\n",
      "Version: 1.6.9, Tutorials: https://omicverse.readthedocs.io/\n",
      "\n",
      "   ____            _     _    __                  \n",
      "  / __ \\____ ___  (_)___| |  / /__  _____________ \n",
      " / / / / __ `__ \\/ / ___/ | / / _ \\/ ___/ ___/ _ \\ \n",
      "/ /_/ / / / / / / / /__ | |/ /  __/ /  (__  )  __/ \n",
      "\\____/_/ /_/ /_/_/\\___/ |___/\\___/_/  /____/\\___/                                              \n",
      "\n",
      "Version: 1.6.9, Tutorials: https://omicverse.readthedocs.io/\n",
      "\n",
      "   ____            _     _    __                  \n",
      "  / __ \\____ ___  (_)___| |  / /__  _____________ \n",
      " / / / / __ `__ \\/ / ___/ | / / _ \\/ ___/ ___/ _ \\ \n",
      "/ /_/ / / / / / / / /__ | |/ /  __/ /  (__  )  __/ \n",
      "\\____/_/ /_/ /_/_/\\___/ |___/\\___/_/  /____/\\___/                                              \n",
      "\n",
      "Version: 1.6.9, Tutorials: https://omicverse.readthedocs.io/\n",
      "\n",
      "   ____            _     _    __                  \n",
      "  / __ \\____ ___  (_)___| |  / /__  _____________ \n",
      " / / / / __ `__ \\/ / ___/ | / / _ \\/ ___/ ___/ _ \\ \n",
      "/ /_/ / / / / / / / /__ | |/ /  __/ /  (__  )  __/ \n",
      "\\____/_/ /_/ /_/_/\\___/ |___/\\___/_/  /____/\\___/                                              \n",
      "\n",
      "Version: 1.6.9, Tutorials: https://omicverse.readthedocs.io/\n",
      "\n",
      "   ____            _     _    __                  \n",
      "  / __ \\____ ___  (_)___| |  / /__  _____________ \n",
      " / / / / __ `__ \\/ / ___/ | / / _ \\/ ___/ ___/ _ \\ \n",
      "/ /_/ / / / / / / / /__ | |/ /  __/ /  (__  )  __/ \n",
      "\\____/_/ /_/ /_/_/\\___/ |___/\\___/_/  /____/\\___/                                              \n",
      "\n",
      "Version: 1.6.9, Tutorials: https://omicverse.readthedocs.io/\n",
      "\n",
      "   ____            _     _    __                  \n",
      "  / __ \\____ ___  (_)___| |  / /__  _____________ \n",
      " / / / / __ `__ \\/ / ___/ | / / _ \\/ ___/ ___/ _ \\ \n",
      "/ /_/ / / / / / / / /__ | |/ /  __/ /  (__  )  __/ \n",
      "\\____/_/ /_/ /_/_/\\___/ |___/\\___/_/  /____/\\___/                                              \n",
      "\n",
      "Version: 1.6.9, Tutorials: https://omicverse.readthedocs.io/\n",
      "\n",
      "   ____            _     _    __                  \n",
      "  / __ \\____ ___  (_)___| |  / /__  _____________ \n",
      " / / / / __ `__ \\/ / ___/ | / / _ \\/ ___/ ___/ _ \\ \n",
      "/ /_/ / / / / / / / /__ | |/ /  __/ /  (__  )  __/ \n",
      "\\____/_/ /_/ /_/_/\\___/ |___/\\___/_/  /____/\\___/                                              \n",
      "\n",
      "Version: 1.6.9, Tutorials: https://omicverse.readthedocs.io/\n",
      "\n",
      "   ____            _     _    __                  \n",
      "  / __ \\____ ___  (_)___| |  / /__  _____________ \n",
      " / / / / __ `__ \\/ / ___/ | / / _ \\/ ___/ ___/ _ \\ \n",
      "/ /_/ / / / / / / / /__ | |/ /  __/ /  (__  )  __/ \n",
      "\\____/_/ /_/ /_/_/\\___/ |___/\\___/_/  /____/\\___/                                              \n",
      "\n",
      "Version: 1.6.9, Tutorials: https://omicverse.readthedocs.io/\n",
      "\n",
      "   ____            _     _    __                  \n",
      "  / __ \\____ ___  (_)___| |  / /__  _____________ \n",
      " / / / / __ `__ \\/ / ___/ | / / _ \\/ ___/ ___/ _ \\ \n",
      "/ /_/ / / / / / / / /__ | |/ /  __/ /  (__  )  __/ \n",
      "\\____/_/ /_/ /_/_/\\___/ |___/\\___/_/  /____/\\___/                                              \n",
      "\n",
      "Version: 1.6.9, Tutorials: https://omicverse.readthedocs.io/\n",
      "computing PCA\n",
      "    with n_comps=200\n",
      "computing PCA\n",
      "    with n_comps=200\n",
      "    finished (0:00:03)\n",
      "    finished (0:00:06)\n",
      "cytotrace2: Results saved to adata.obs           \n",
      "    CytoTRACE2_Score: CytoTRACE2 score           \n",
      "    CytoTRACE2_Potency: CytoTRACE2 potency           \n",
      "    CytoTRACE2_Relative: CytoTRACE2 relative score           \n",
      "    preKNN_CytoTRACE2_Score: CytoTRACE2 score before kNN smoothing           \n",
      "    preKNN_CytoTRACE2_Potency: CytoTRACE2 potency before kNN smoothing\n",
      "cytotrace2: Finished.\n"
     ]
    }
   ],
   "execution_count": 6
  },
  {
   "metadata": {
    "ExecuteTime": {
     "end_time": "2025-01-21T08:08:22.701252Z",
     "start_time": "2025-01-21T08:08:21.648890Z"
    }
   },
   "cell_type": "code",
   "source": [
    "import matplotlib.pyplot as plt\n",
    "ov.utils.embedding(adata,basis='X_umap',\n",
    "                   color=['celltype.main','CytoTRACE2_Score'],\n",
    "                   frameon='small',cmap='Reds',wspace=0.8,show=False)\n",
    "plt.savefig('/tmp/07cVKL4MVr/figures/cytotrace_score.pdf', dpi=400)\n",
    "plt.close()"
   ],
   "id": "c95d254af6880e22",
   "outputs": [],
   "execution_count": 17
  },
  {
   "metadata": {
    "ExecuteTime": {
     "end_time": "2025-01-21T08:08:28.224463Z",
     "start_time": "2025-01-21T08:08:27.321139Z"
    }
   },
   "cell_type": "code",
   "source": [
    "ov.utils.embedding(adata,basis='X_umap',\n",
    "                   color=['CytoTRACE2_Potency','CytoTRACE2_Relative'],\n",
    "                   frameon='small',cmap='Reds',wspace=0.55,show=False)\n",
    "plt.savefig('/tmp/07cVKL4MVr/figures/cytotrace_catrgorical.pdf', dpi=400)\n",
    "plt.close()"
   ],
   "id": "7d9e618100ae588c",
   "outputs": [],
   "execution_count": 18
  },
  {
   "metadata": {},
   "cell_type": "code",
   "outputs": [],
   "execution_count": null,
   "source": "",
   "id": "4a3a4a75ea9140de"
  }
 ],
 "metadata": {
  "kernelspec": {
   "display_name": "Python 3",
   "language": "python",
   "name": "python3"
  },
  "language_info": {
   "codemirror_mode": {
    "name": "ipython",
    "version": 2
   },
   "file_extension": ".py",
   "mimetype": "text/x-python",
   "name": "python",
   "nbconvert_exporter": "python",
   "pygments_lexer": "ipython2",
   "version": "2.7.6"
  }
 },
 "nbformat": 4,
 "nbformat_minor": 5
}
